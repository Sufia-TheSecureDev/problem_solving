{
 "cells": [
  {
   "cell_type": "code",
   "execution_count": 1,
   "metadata": {
    "cocalc": {
     "outputs": {
      "0": {
       "name": "input",
       "opts": {
        "password": false,
        "prompt": "enter first num : "
       },
       "output_type": "stream",
       "value": "5"
      },
      "1": {
       "name": "input",
       "opts": {
        "password": false,
        "prompt": "enter second num: "
       },
       "output_type": "stream",
       "value": "5"
      }
     }
    },
    "collapsed": false
   },
   "outputs": [
    {
     "name": "stdout",
     "output_type": "stream",
     "text": "enter first num :  5"
    },
    {
     "name": "stdout",
     "output_type": "stream",
     "text": "enter second num:  5"
    },
    {
     "name": "stdout",
     "output_type": "stream",
     "text": [
      "add:  10\n",
      "sub:  0\n",
      "multi:  25\n",
      "div:  1.0\n",
      "mod:  0\n",
      "fdiv:  1\n",
      "expo:  3125\n"
     ]
    }
   ],
   "source": [
    "#arithmatic operation\n",
    "\n",
    "a = int(input('enter first num : '))\n",
    "b = int(input('enter second num: '))\n",
    "print('add: ', a+b)\n",
    "print('sub: ', a-b)\n",
    "print('multi: ', a*b)\n",
    "print('div: ', a/b)\n",
    "print('mod: ', a%b)\n",
    "print('fdiv: ', a//b)\n",
    "print('expo: ', a**b)"
   ]
  },
  {
   "cell_type": "code",
   "execution_count": 2,
   "metadata": {
    "cocalc": {
     "outputs": {
      "0": {
       "name": "input",
       "opts": {
        "password": false,
        "prompt": "enter any num : "
       },
       "output_type": "stream",
       "value": "5"
      }
     }
    },
    "collapsed": false
   },
   "outputs": [
    {
     "name": "stdout",
     "output_type": "stream",
     "text": "enter any num :  5"
    },
    {
     "name": "stdout",
     "output_type": "stream",
     "text": [
      "odd num\n"
     ]
    }
   ],
   "source": [
    "#odd even\n",
    "a = int(input('enter any num : '))\n",
    "if a % 2 == 0:\n",
    "    print('Even num')\n",
    "else:\n",
    "    print('odd num')\n"
   ]
  },
  {
   "cell_type": "code",
   "execution_count": 35,
   "metadata": {
    "cocalc": {
     "outputs": {
      "0": {
       "name": "input",
       "opts": {
        "password": false,
        "prompt": ""
       },
       "output_type": "stream",
       "value": "5"
      }
     }
    },
    "collapsed": false
   },
   "outputs": [
    {
     "name": "stdout",
     "output_type": "stream",
     "text": " 5"
    },
    {
     "name": "stdout",
     "output_type": "stream",
     "text": [
      "Odd\n"
     ]
    }
   ],
   "source": [
    "#odd even check between some range\n",
    "n = int(input())\n",
    "\n",
    "if n  == 0 :\n",
    "    print(\"Zero\")\n",
    "else:\n",
    "    if n%2 == 1:\n",
    "        print(\"Odd\")\n",
    "    else:\n",
    "        if n >= 2 and n<=5 :\n",
    "            print(\"even between 2 and 5\")\n",
    "        elif n >= 6 and n<=20 :\n",
    "            print(\"even between 6 and 20\")\n",
    "        else:\n",
    "            print(\"even greater than 20\")"
   ]
  },
  {
   "cell_type": "code",
   "execution_count": 6,
   "metadata": {
    "cocalc": {
     "outputs": {
      "0": {
       "name": "input",
       "opts": {
        "password": false,
        "prompt": "enter any num : "
       },
       "output_type": "stream",
       "value": "5"
      }
     }
    },
    "collapsed": false
   },
   "outputs": [
    {
     "name": "stdout",
     "output_type": "stream",
     "text": "enter any num :  5"
    },
    {
     "name": "stdout",
     "output_type": "stream",
     "text": [
      "5 is a positive num\n"
     ]
    }
   ],
   "source": [
    "#positive or nagetive num\n",
    "a = int(input('enter any num : '))\n",
    "if a >= 0:\n",
    "    print('%d is a positive num' %a)\n",
    "else:\n",
    "    print('Negative num')"
   ]
  },
  {
   "cell_type": "code",
   "execution_count": 9,
   "metadata": {
    "cocalc": {
     "outputs": {
      "0": {
       "name": "input",
       "opts": {
        "password": false,
        "prompt": "enter the yr: "
       },
       "output_type": "stream",
       "value": "2020"
      }
     }
    },
    "collapsed": false
   },
   "outputs": [
    {
     "name": "stdout",
     "output_type": "stream",
     "text": "enter the yr:  2020"
    },
    {
     "name": "stdout",
     "output_type": "stream",
     "text": [
      "2020 is a Leap year.\n"
     ]
    }
   ],
   "source": [
    "#Leap year or not\n",
    "year = int(input('enter the yr: '))\n",
    "if year % 100 != 0 and year % 4 == 0:\n",
    "    print(\"%d is a Leap year.\" %year)\n",
    "elif year % 100 == 0 and year % 400 == 0:\n",
    "    print(\"%d is a Leap year.\" %year)\n",
    "else:\n",
    "    print(\"%d is not a Leap year.\" %year)"
   ]
  },
  {
   "cell_type": "code",
   "execution_count": 11,
   "metadata": {
    "collapsed": false
   },
   "outputs": [
    {
     "name": "stdout",
     "output_type": "stream",
     "text": [
      "1\n",
      "3\n",
      "5\n",
      "7\n",
      "9\n"
     ]
    }
   ],
   "source": [
    "#for loop for print odd num from 1 to 10\n",
    "for i in range(1,11,2):\n",
    "    print(i)"
   ]
  },
  {
   "cell_type": "code",
   "execution_count": 21,
   "metadata": {
    "collapsed": false,
    "scrolled": true
   },
   "outputs": [
    {
     "name": "stdout",
     "output_type": "stream",
     "text": [
      "0\n",
      "2\n",
      "4\n",
      "6\n",
      "8\n",
      "10\n"
     ]
    }
   ],
   "source": [
    "#while loop for print even num from 0 to 10\n",
    "\n",
    "i = 0\n",
    "while i < 11 :\n",
    "    print(i)\n",
    "    i+=2"
   ]
  },
  {
   "cell_type": "code",
   "execution_count": 36,
   "metadata": {
    "collapsed": false
   },
   "outputs": [
    {
     "name": "stdout",
     "output_type": "stream",
     "text": [
      "15\n"
     ]
    }
   ],
   "source": [
    "#find list sum manually\n",
    "def listSum(numbers):\n",
    "    result = 0\n",
    "    for number in numbers:\n",
    "        result += number\n",
    "    return result\n",
    "\n",
    "list = [1,2,3,4,5]\n",
    "print(listSum(list)   )"
   ]
  },
  {
   "cell_type": "code",
   "execution_count": 25,
   "metadata": {
    "collapsed": false
   },
   "outputs": [
    {
     "name": "stdout",
     "output_type": "stream",
     "text": [
      "3.0\n"
     ]
    }
   ],
   "source": [
    "#find average value .\n",
    "\n",
    "def averagee(li):\n",
    "    return sum(li) /len(li)\n",
    "\n",
    "myli = [1,2,3,4,5]\n",
    "print(averagee(myli))"
   ]
  },
  {
   "cell_type": "code",
   "execution_count": 37,
   "metadata": {
    "collapsed": false
   },
   "outputs": [
    {
     "name": "stdout",
     "output_type": "stream",
     "text": [
      "[1, 4, 9, 16, 25]\n"
     ]
    }
   ],
   "source": [
    "# square of each element from a list\n",
    "li = [1,2,3,4,5]\n",
    "squareOfList = [x**2 for x in li]\n",
    "print(squareOfList)"
   ]
  },
  {
   "cell_type": "code",
   "execution_count": 26,
   "metadata": {
    "cocalc": {
     "outputs": {
      "0": {
       "name": "input",
       "opts": {
        "password": false,
        "prompt": "enter   digit : "
       },
       "output_type": "stream",
       "value": "5"
      }
     }
    },
    "collapsed": false
   },
   "outputs": [
    {
     "name": "stdout",
     "output_type": "stream",
     "text": "enter   digit :  5"
    },
    {
     "name": "stdout",
     "output_type": "stream",
     "text": [
      "5 * 1 = 5\n",
      "5 * 2 = 10\n",
      "5 * 3 = 15\n",
      "5 * 4 = 20\n",
      "5 * 5 = 25\n",
      "5 * 6 = 30\n",
      "5 * 7 = 35\n",
      "5 * 8 = 40\n",
      "5 * 9 = 45\n",
      "5 * 10 = 50\n"
     ]
    }
   ],
   "source": [
    "#multiplication table\n",
    "digit = int(input('enter   digit : '))\n",
    "i  = 1\n",
    "while i<=10:\n",
    "    print(digit ,'*' , i,'=', digit*i)\n",
    "    i+=1"
   ]
  },
  {
   "cell_type": "code",
   "execution_count": 29,
   "metadata": {
    "collapsed": false
   },
   "outputs": [
    {
     "name": "stdout",
     "output_type": "stream",
     "text": [
      "1 * 1 = 1\n",
      "1 * 2 = 2\n",
      "1 * 3 = 3\n",
      "1 * 4 = 4\n",
      "1 * 5 = 5\n",
      "1 * 6 = 6\n",
      "1 * 7 = 7\n",
      "1 * 8 = 8\n",
      "1 * 9 = 9\n",
      "1 * 10 = 10\n"
     ]
    }
   ],
   "source": [
    "#  multiplication table with func\n",
    "def table(digit = 1):\n",
    "    i  = 1\n",
    "    while i<=10:\n",
    "        print(digit ,'*' , i,'=', digit*i)\n",
    "        i+=1\n",
    "\n",
    "table()\n"
   ]
  },
  {
   "cell_type": "code",
   "execution_count": 30,
   "metadata": {
    "cocalc": {
     "outputs": {
      "0": {
       "name": "input",
       "opts": {
        "password": false,
        "prompt": ""
       },
       "output_type": "stream",
       "value": "AMAr nam sania2 3!"
      }
     }
    },
    "collapsed": false
   },
   "outputs": [
    {
     "name": "stdout",
     "output_type": "stream",
     "text": " AMAr nam sania2 3!"
    },
    {
     "name": "stdout",
     "output_type": "stream",
     "text": [
      "AMA rnamsania 23    !\n"
     ]
    }
   ],
   "source": [
    "#find upper,lower,special,digit cases from aa string\n",
    "from curses.ascii import isdigit, islower, isupper\n",
    "\n",
    "upperLetter = ''\n",
    "lowerLetter = ''\n",
    "digit = ''\n",
    "others = ''\n",
    "\n",
    "str =  input()\n",
    "for s in str:\n",
    "    if isupper(s):\n",
    "        upperLetter += s\n",
    "    elif islower(s):\n",
    "        lowerLetter += s\n",
    "    elif isdigit(s):\n",
    "        digit += s\n",
    "    else:\n",
    "        others += s \n",
    "\n",
    "print(upperLetter , lowerLetter, digit , others)"
   ]
  },
  {
   "cell_type": "code",
   "execution_count": 31,
   "metadata": {
    "cocalc": {
     "outputs": {
      "0": {
       "name": "input",
       "opts": {
        "password": false,
        "prompt": ""
       },
       "output_type": "stream",
       "value": "Bangladesh"
      }
     }
    },
    "collapsed": false
   },
   "outputs": [
    {
     "name": "stdout",
     "output_type": "stream",
     "text": " Bangladesh"
    },
    {
     "name": "stdout",
     "output_type": "stream",
     "text": [
      "aBgnaledhs\n"
     ]
    }
   ],
   "source": [
    "#string swap within 2 index from a single string\n",
    "newStr = ''\n",
    "str = input()\n",
    "for i in range(0 , len(str) , 2):\n",
    "    newStr += str[i+1] + str[i]\n",
    "\n",
    "print(newStr)"
   ]
  },
  {
   "cell_type": "code",
   "execution_count": 32,
   "metadata": {
    "cocalc": {
     "outputs": {
      "0": {
       "name": "input",
       "opts": {
        "password": false,
        "prompt": ""
       },
       "output_type": "stream",
       "value": "sania"
      }
     }
    },
    "collapsed": false
   },
   "outputs": [
    {
     "name": "stdout",
     "output_type": "stream",
     "text": " sania"
    },
    {
     "name": "stdout",
     "output_type": "stream",
     "text": [
      "ainas\n"
     ]
    }
   ],
   "source": [
    "#string reverse\n",
    "\n",
    "def reverse(s):\n",
    "    str = \"\"\n",
    "    for i in s:\n",
    "        str =  i + str\n",
    "    return str\n",
    "\n",
    "s = input()\n",
    "print(reverse(s))"
   ]
  },
  {
   "cell_type": "code",
   "execution_count": 34,
   "metadata": {
    "cocalc": {
     "outputs": {
      "0": {
       "name": "input",
       "opts": {
        "password": false,
        "prompt": ""
       },
       "output_type": "stream",
       "value": "madam"
      }
     }
    },
    "collapsed": false
   },
   "outputs": [
    {
     "name": "stdout",
     "output_type": "stream",
     "text": " madam"
    },
    {
     "name": "stdout",
     "output_type": "stream",
     "text": [
      "Palindrome\n"
     ]
    }
   ],
   "source": [
    "#palindrom or not\n",
    "def reverse(s):\n",
    "    str = \"\"\n",
    "    for i in s:\n",
    "        str =  i + str\n",
    "    return str\n",
    " \n",
    "s = input()\n",
    "r =reverse(s) \n",
    "if s == r :\n",
    "    print('Palindrome')\n",
    "else:\n",
    "    print('not palindrome')"
   ]
  },
  {
   "cell_type": "code",
   "execution_count": 38,
   "metadata": {
    "collapsed": false
   },
   "outputs": [
    {
     "name": "stdout",
     "output_type": "stream",
     "text": [
      "I'm  sufia from 2022  \n"
     ]
    }
   ],
   "source": [
    "#string format\n",
    "name = 'I\\'m  {x} from {y}  '.format(x='sufia', y=2022  )\n",
    "print(name)"
   ]
  },
  {
   "cell_type": "code",
   "execution_count": 45,
   "metadata": {
    "collapsed": false
   },
   "outputs": [
    {
     "name": "stdout",
     "output_type": "stream",
     "text": [
      "There are total 3 vowel in given string .\n"
     ]
    }
   ],
   "source": [
    "#count the vowel in a string\n",
    "str = \"bangladesh\"\n",
    "vowels = 'aeiou'\n",
    "total = 0\n",
    "for i in str:\n",
    "    for vowel in vowels:\n",
    "        if i == vowel:\n",
    "            total += 1\n",
    "        else:\n",
    "            continue\n",
    "print('There are total %d vowel in given string .' %total )"
   ]
  },
  {
   "cell_type": "code",
   "execution_count": 54,
   "metadata": {
    "cocalc": {
     "outputs": {
      "0": {
       "name": "input",
       "opts": {
        "password": false,
        "prompt": "write asce or desc: "
       },
       "output_type": "stream",
       "value": "desc"
      }
     }
    },
    "collapsed": false
   },
   "outputs": [
    {
     "name": "stdout",
     "output_type": "stream",
     "text": "write asce or desc:  desc"
    },
    {
     "name": "stdout",
     "output_type": "stream",
     "text": [
      "[9, 7, 5, 4, 3]\n"
     ]
    }
   ],
   "source": [
    "#sort a list \n",
    "li = [5,9,4,3,7]\n",
    "order = input('write asce or desc: ')\n",
    "if order == 'desc':\n",
    "    li.sort(reverse= True)\n",
    "else:\n",
    "    li.sort()\n",
    "print(li)"
   ]
  },
  {
   "cell_type": "code",
   "execution_count": 57,
   "metadata": {
    "cocalc": {
     "outputs": {
      "0": {
       "name": "input",
       "opts": {
        "password": false,
        "prompt": "enter ur product price: "
       },
       "output_type": "stream",
       "value": "100"
      },
      "1": {
       "name": "input",
       "opts": {
        "password": false,
        "prompt": "enter ur discont percentage: "
       },
       "output_type": "stream",
       "value": "5"
      }
     }
    },
    "collapsed": false
   },
   "outputs": [
    {
     "name": "stdout",
     "output_type": "stream",
     "text": "enter ur product price:  100"
    },
    {
     "name": "stdout",
     "output_type": "stream",
     "text": "enter ur discont percentage:  5"
    },
    {
     "name": "stdout",
     "output_type": "stream",
     "text": [
      "After discount ur product price is 95 tk . \n"
     ]
    }
   ],
   "source": [
    "#give me the discount\n",
    "price = int(input('enter ur product price: '))\n",
    "dis = int(input('enter ur discont percentage: '))\n",
    "price_after_discount = price - ((dis*price)/100)\n",
    "print('After discount ur product price is %d tk . '%price_after_discount)\n"
   ]
  },
  {
   "cell_type": "code",
   "execution_count": 0,
   "metadata": {
    "collapsed": false
   },
   "outputs": [
   ],
   "source": [
   ]
  }
 ],
 "metadata": {
  "kernelspec": {
   "display_name": "Python 3 (system-wide)",
   "language": "python",
   "metadata": {
    "cocalc": {
     "description": "Python 3 programming language",
     "priority": 100,
     "url": "https://www.python.org/"
    }
   },
   "name": "python3",
   "resource_dir": "/ext/jupyter/kernels/python3"
  },
  "language_info": {
   "codemirror_mode": {
    "name": "ipython",
    "version": 3
   },
   "file_extension": ".py",
   "mimetype": "text/x-python",
   "name": "python",
   "nbconvert_exporter": "python",
   "pygments_lexer": "ipython3",
   "version": "3.8.10"
  }
 },
 "nbformat": 4,
 "nbformat_minor": 4
}